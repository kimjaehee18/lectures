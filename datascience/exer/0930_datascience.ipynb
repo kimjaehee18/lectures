{
  "nbformat": 4,
  "nbformat_minor": 0,
  "metadata": {
    "colab": {
      "name": "0930데이터엔지니어링.ipynb",
      "provenance": [],
      "collapsed_sections": []
    },
    "kernelspec": {
      "name": "python3",
      "display_name": "Python 3"
    },
    "language_info": {
      "name": "python"
    }
  },
  "cells": [
    {
      "cell_type": "code",
      "metadata": {
        "id": "KVphaswhIiRA"
      },
      "source": [
        "# 실습1 -> 5번째 셀\n",
        "# 실습2 -> 7번째 셀\n",
        "\n",
        "import numpy as np\n",
        "import pandas as pd\n",
        "from matplotlib import pyplot as plt"
      ],
      "execution_count": 1,
      "outputs": []
    },
    {
      "cell_type": "code",
      "metadata": {
        "colab": {
          "base_uri": "https://localhost:8080/"
        },
        "id": "pYpKxQ9KOz9i",
        "outputId": "a1881cce-ae89-4074-d9d0-bffee0e70e8a"
      },
      "source": [
        "#Creating a Numpy Array\n",
        "\n",
        "list = [1,2,3,4]\n",
        "\n",
        "arr = np.array(list)\n",
        "print(arr)\n",
        "print(type(arr))"
      ],
      "execution_count": 4,
      "outputs": [
        {
          "output_type": "stream",
          "name": "stdout",
          "text": [
            "[1 2 3 4]\n",
            "<class 'numpy.ndarray'>\n"
          ]
        }
      ]
    },
    {
      "cell_type": "code",
      "metadata": {
        "colab": {
          "base_uri": "https://localhost:8080/"
        },
        "id": "VpZ52YVgPCT7",
        "outputId": "321cb58d-284a-4f81-b439-985c5406a114"
      },
      "source": [
        "# dtype attribute\n",
        "print(arr.dtype)\n",
        "\n",
        "a = np.array([1,1.4,\"1.1, 1.2, 2.5\"])\n",
        "print(a.dtype)"
      ],
      "execution_count": 7,
      "outputs": [
        {
          "output_type": "stream",
          "name": "stdout",
          "text": [
            "int64\n",
            "<U32\n"
          ]
        }
      ]
    },
    {
      "cell_type": "code",
      "metadata": {
        "colab": {
          "base_uri": "https://localhost:8080/"
        },
        "id": "hbpiNSLcPwA0",
        "outputId": "149250a5-2b57-4df0-b6d8-2d7d4ac678cd"
      },
      "source": [
        "\"\"\"\n",
        "Operation\n",
        "\"\"\"\n",
        "\n",
        "prices = [30,24,40,20,20,45,50,35]\n",
        "price_arr = np.array(prices)\n",
        "\n",
        "new_prices = [price - 5 for price in prices]\n",
        "print(new_prices)\n",
        "\n",
        "price_arr -= 5\n",
        "print(price_arr)"
      ],
      "execution_count": 10,
      "outputs": [
        {
          "output_type": "stream",
          "name": "stdout",
          "text": [
            "[25, 19, 35, 15, 15, 40, 45, 30]\n",
            "[25 19 35 15 15 40 45 30]\n"
          ]
        }
      ]
    },
    {
      "cell_type": "code",
      "metadata": {
        "colab": {
          "base_uri": "https://localhost:8080/"
        },
        "id": "ZXi24eMwROyw",
        "outputId": "2b76eb8e-444e-4ea9-ca05-ca85c6a950c3"
      },
      "source": [
        "#실습 1\n",
        "\n",
        "test_1 = np.array([92,94,88,91,87])\n",
        "test_2 = np.array([79,100,86,93,91])\n",
        "test_3 = np.array([87,85,72,90,92])\n",
        "print(\"-------test1 test2 test3-------\")\n",
        "print(test_1)\n",
        "print(test_2)\n",
        "print(test_3)\n",
        "\n",
        "print(\"-------test3 fixed-------\")\n",
        "test_3_fixed = test_3\n",
        "test_3_fixed += 2\n",
        "print(test_3_fixed)\n",
        "\n",
        "print(\"-------total grade-------\")\n",
        "total_grade = test_1 + test_2 + test_3_fixed\n",
        "print(total_grade)\n",
        "\n",
        "print(\"-------final grade-------\")\n",
        "final_grade = total_grade /3\n",
        "print(final_grade)\n",
        "\n",
        "print(\"-------student_scores-------\")\n",
        "student_scores = np.array([test_1, test_2, test_3])\n",
        "print(student_scores)\n",
        "\n",
        "print(\"-------jeremy_test_2-------\")\n",
        "jeremy_test_2 = student_scores[1,3]\n",
        "print(jeremy_test_2)\n",
        "\n",
        "print(\"-------cody_total-------\")\n",
        "cody_total = student_scores[:,4]\n",
        "print(cody_total)"
      ],
      "execution_count": 31,
      "outputs": [
        {
          "output_type": "stream",
          "name": "stdout",
          "text": [
            "-------test1 test2 test3-------\n",
            "[92 94 88 91 87]\n",
            "[ 79 100  86  93  91]\n",
            "[87 85 72 90 92]\n",
            "-------test3 fixed-------\n",
            "[89 87 74 92 94]\n",
            "-------total grade-------\n",
            "[260 281 248 276 272]\n",
            "-------final grade-------\n",
            "[86.66666667 93.66666667 82.66666667 92.         90.66666667]\n",
            "-------student_scores-------\n",
            "[[ 92  94  88  91  87]\n",
            " [ 79 100  86  93  91]\n",
            " [ 89  87  74  92  94]]\n",
            "-------jeremy_test_2-------\n",
            "93\n",
            "-------cody_total-------\n",
            "[87 91 94]\n"
          ]
        }
      ]
    },
    {
      "cell_type": "code",
      "metadata": {
        "colab": {
          "base_uri": "https://localhost:8080/"
        },
        "id": "GAx3mgYDU4jU",
        "outputId": "4cde2ba6-ecd0-453e-a7d0-6d710012003a"
      },
      "source": [
        "\"\"\"\n",
        "Logical Operations with Arrays\n",
        "\"\"\"\n",
        "\n",
        "a = np.array([10,2,2,3,4,5,3,9,8,7])\n",
        "mask = a > 5\n",
        "print(mask)\n",
        "\n",
        "selected = a[a>5]\n",
        "print(selected)\n",
        "\n",
        "selected = a[(a>5) | (a<4)]\n",
        "print(selected)"
      ],
      "execution_count": 36,
      "outputs": [
        {
          "output_type": "stream",
          "name": "stdout",
          "text": [
            "[ True False False False False False False  True  True  True]\n",
            "[10  9  8  7]\n",
            "[10  2  2  3  3  9  8  7]\n"
          ]
        }
      ]
    },
    {
      "cell_type": "code",
      "metadata": {
        "colab": {
          "base_uri": "https://localhost:8080/"
        },
        "id": "ahdnKR4SWF1Z",
        "outputId": "0c022492-1775-4c95-8b45-701b1520d9a2"
      },
      "source": [
        "# 실습2\n",
        "\n",
        "porridge = np.array([79,65,50,63,56,90,85,98,79,51])\n",
        "\n",
        "print(\"---cold---\")\n",
        "cold = porridge[porridge < 60]\n",
        "print(cold)\n",
        "print()\n",
        "\n",
        "print(\"---hot---\")\n",
        "hot = porridge[porridge > 80]\n",
        "print(hot)\n",
        "print()\n",
        "\n",
        "print(\"---just_right---\")\n",
        "just_right = porridge[(porridge >= 60) & (porridge <= 80)]\n",
        "print(just_right)\n",
        "print()\n",
        "\n",
        "\n"
      ],
      "execution_count": 43,
      "outputs": [
        {
          "output_type": "stream",
          "name": "stdout",
          "text": [
            "---cold---\n",
            "[50 56 51]\n",
            "\n",
            "---hot---\n",
            "[90 85 98]\n",
            "\n",
            "---just_right---\n",
            "[79 65 63 79]\n",
            "\n"
          ]
        }
      ]
    }
  ]
}
