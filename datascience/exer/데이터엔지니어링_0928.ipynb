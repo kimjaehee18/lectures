{
  "nbformat": 4,
  "nbformat_minor": 0,
  "metadata": {
    "colab": {
      "name": "데이터엔지니어링_0928.ipynb",
      "provenance": [],
      "collapsed_sections": []
    },
    "kernelspec": {
      "name": "python3",
      "display_name": "Python 3"
    },
    "language_info": {
      "name": "python"
    }
  },
  "cells": [
    {
      "cell_type": "code",
      "metadata": {
        "colab": {
          "base_uri": "https://localhost:8080/"
        },
        "id": "UR2n8OltOejc",
        "outputId": "88ee53b0-0121-4341-e7be-fbf3c690b9dd"
      },
      "source": [
        "\"\"\"\n",
        "Functions vs Method\n",
        "\"\"\"\n",
        "\n",
        "def my_function(x):\n",
        "  return x+1\n",
        "\n",
        "y = 3\n",
        "my_function(y)"
      ],
      "execution_count": 12,
      "outputs": [
        {
          "output_type": "execute_result",
          "data": {
            "text/plain": [
              "4"
            ]
          },
          "metadata": {},
          "execution_count": 12
        }
      ]
    },
    {
      "cell_type": "code",
      "metadata": {
        "colab": {
          "base_uri": "https://localhost:8080/"
        },
        "id": "H_vc8TOtTN_l",
        "outputId": "fd30fc39-031e-4a7e-c1e5-1c39ed16b4ef"
      },
      "source": [
        "class my_class:\n",
        "  def my_method(self):\n",
        "    return x + 1\n",
        "\n",
        "cls = my_class()\n",
        "x = 2\n",
        "print(cls.my_method())\n"
      ],
      "execution_count": 13,
      "outputs": [
        {
          "output_type": "stream",
          "name": "stdout",
          "text": [
            "3\n"
          ]
        }
      ]
    },
    {
      "cell_type": "code",
      "metadata": {
        "colab": {
          "base_uri": "https://localhost:8080/"
        },
        "id": "xjaCpWL4RHrp",
        "outputId": "a6555ea9-f842-4448-b10e-2408ef1b190c"
      },
      "source": [
        "\"\"\"\n",
        "Function Parameters\n",
        "\"\"\"\n",
        "\n",
        "def introduce_myself(name, birthyear, city):\n",
        "  print(\"hello everyone, my name is %s, I was bor in %d, and I live in %s.\" %(name, birthyear, city))\n",
        "\n",
        "introduce_myself(\"김재희\", 2002, \"경기도\")"
      ],
      "execution_count": 5,
      "outputs": [
        {
          "output_type": "stream",
          "name": "stdout",
          "text": [
            "hello everyone, my name is 김재희, I was bor in 2002, and I live in 경기도.\n"
          ]
        }
      ]
    },
    {
      "cell_type": "code",
      "metadata": {
        "colab": {
          "base_uri": "https://localhost:8080/",
          "height": 37
        },
        "id": "cL05fZm4Riju",
        "outputId": "0d7a74fe-5258-4c43-dd2c-1cb7c3900ef2"
      },
      "source": [
        "def check_leap_year(year):\n",
        "  if year % 4 == 0:\n",
        "    return \"%s is a leap year.\" %(year)\n",
        "  else:\n",
        "    return \"%s is not a leap year.\" %(year)\n",
        "\n",
        "check_leap_year(2020)"
      ],
      "execution_count": 7,
      "outputs": [
        {
          "output_type": "execute_result",
          "data": {
            "application/vnd.google.colaboratory.intrinsic+json": {
              "type": "string"
            },
            "text/plain": [
              "'2020 is a leap year.'"
            ]
          },
          "metadata": {},
          "execution_count": 7
        }
      ]
    },
    {
      "cell_type": "code",
      "metadata": {
        "colab": {
          "base_uri": "https://localhost:8080/"
        },
        "id": "rqNwyGDSSobo",
        "outputId": "974606b9-a3ac-4ff1-8c65-35d2045b501a"
      },
      "source": [
        "\"\"\"\n",
        "Returning Multiple Values\n",
        "\"\"\"\n",
        "\n",
        "def square_point(x,y,z):\n",
        "  x_squared = x ** 2\n",
        "  y_squared = y ** 2\n",
        "  z_squared = z ** 2\n",
        "\n",
        "  return x_squared, y_squared, z_squared\n",
        "\n",
        "three_squared, four_squared, five_squared = square_point(3,4,5)\n",
        "\n",
        "print(three_squared, four_squared, five_squared)"
      ],
      "execution_count": 10,
      "outputs": [
        {
          "output_type": "stream",
          "name": "stdout",
          "text": [
            "9 16 25\n"
          ]
        }
      ]
    },
    {
      "cell_type": "code",
      "metadata": {
        "colab": {
          "base_uri": "https://localhost:8080/"
        },
        "id": "GwpVf6o2TIs9",
        "outputId": "32b9cf86-3582-4560-bd2e-6e43e4995723"
      },
      "source": [
        "\"\"\"\n",
        "Global Variables\n",
        "\"\"\"\n",
        "\n",
        "a = \"Hello\"\n",
        "\n",
        "def prints_a():\n",
        "  print(a)\n",
        "\n",
        "prints_a()"
      ],
      "execution_count": 15,
      "outputs": [
        {
          "output_type": "stream",
          "name": "stdout",
          "text": [
            "Hello\n"
          ]
        }
      ]
    },
    {
      "cell_type": "code",
      "metadata": {
        "colab": {
          "base_uri": "https://localhost:8080/",
          "height": 215
        },
        "id": "czSzW_sDUR4C",
        "outputId": "113bf0c5-185f-400e-c2c8-a4c998ea4c25"
      },
      "source": [
        "\"\"\"\n",
        "Local Variables\n",
        "\"\"\"\n",
        "\n",
        "def f1():\n",
        "  b = 2\n",
        "  print(b)\n",
        "\n",
        "f1()\n",
        "print(b)"
      ],
      "execution_count": 18,
      "outputs": [
        {
          "output_type": "stream",
          "name": "stdout",
          "text": [
            "2\n"
          ]
        },
        {
          "output_type": "error",
          "ename": "NameError",
          "evalue": "ignored",
          "traceback": [
            "\u001b[0;31m---------------------------------------------------------------------------\u001b[0m",
            "\u001b[0;31mNameError\u001b[0m                                 Traceback (most recent call last)",
            "\u001b[0;32m<ipython-input-18-d5f892f36bb1>\u001b[0m in \u001b[0;36m<module>\u001b[0;34m()\u001b[0m\n\u001b[1;32m      8\u001b[0m \u001b[0;34m\u001b[0m\u001b[0m\n\u001b[1;32m      9\u001b[0m \u001b[0mf1\u001b[0m\u001b[0;34m(\u001b[0m\u001b[0;34m)\u001b[0m\u001b[0;34m\u001b[0m\u001b[0;34m\u001b[0m\u001b[0m\n\u001b[0;32m---> 10\u001b[0;31m \u001b[0mprint\u001b[0m\u001b[0;34m(\u001b[0m\u001b[0mb\u001b[0m\u001b[0;34m)\u001b[0m\u001b[0;34m\u001b[0m\u001b[0;34m\u001b[0m\u001b[0m\n\u001b[0m",
            "\u001b[0;31mNameError\u001b[0m: name 'b' is not defined"
          ]
        }
      ]
    },
    {
      "cell_type": "code",
      "metadata": {
        "colab": {
          "base_uri": "https://localhost:8080/"
        },
        "id": "6te96vjZUXnW",
        "outputId": "36ef9486-b5ba-4fb1-cde5-0e2494595ea8"
      },
      "source": [
        "def findvolume(height, width, depth=3):\n",
        "  print(\"Height = %s\" %(height))\n",
        "  print(\"Width = %s\" %(width))\n",
        "  print(\"Depth = %s\" %(depth))\n",
        "  return height * width * depth\n",
        "\n",
        "# print(findvolume(2,1,3))\n",
        "# print(findvolume(height=2, width=1,depth=3))\n",
        "print(findvolume(height=2, width=1))"
      ],
      "execution_count": 23,
      "outputs": [
        {
          "output_type": "stream",
          "name": "stdout",
          "text": [
            "Height = 2\n",
            "Width = 1\n",
            "Depth = 3\n",
            "6\n"
          ]
        }
      ]
    }
  ]
}