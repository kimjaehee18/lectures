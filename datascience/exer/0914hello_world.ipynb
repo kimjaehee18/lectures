{
  "nbformat": 4,
  "nbformat_minor": 2,
  "metadata": {
    "colab": {
      "name": "hello_world.ipynb",
      "provenance": [],
      "collapsed_sections": []
    },
    "kernelspec": {
      "name": "python3",
      "display_name": "Python 3"
    },
    "language_info": {
      "name": "python"
    }
  },
  "cells": [
    {
      "cell_type": "code",
      "execution_count": 7,
      "source": [
        "\"\"\"\n",
        "print(\"hello world\")\n",
        "\"\"\"\n",
        "print(\"Hello World!\")\n",
        "print(100)\n",
        "\n",
        "pi = 3.14\n",
        "print(pi)\n",
        "\n",
        "intro = \"My name is \"\n",
        "name = \"JaeHee Kim\"\n",
        "print(intro + name + \"!\")"
      ],
      "outputs": [
        {
          "output_type": "stream",
          "name": "stdout",
          "text": [
            "Hello World!\n",
            "100\n",
            "3.14\n",
            "My name is JaeHee Kim!\n"
          ]
        }
      ],
      "metadata": {
        "colab": {
          "base_uri": "https://localhost:8080/"
        },
        "id": "gwXYsVhHEixW",
        "outputId": "b537d722-24af-4ffc-9cc4-0137fa212680"
      }
    },
    {
      "cell_type": "code",
      "execution_count": 8,
      "source": [
        "\"\"\"\n",
        "Variables\n",
        "\"\"\"\n",
        "\n",
        "user_name = \"Jaehee Kim\"\n",
        "user_id = 202055095\n",
        "user_age = 21\n"
      ],
      "outputs": [],
      "metadata": {
        "id": "TLsTH-LHHebF"
      }
    },
    {
      "cell_type": "code",
      "execution_count": 9,
      "source": [
        "\"\"\"\n",
        "Data Types: Integers\n",
        "\"\"\"\n",
        "\n",
        "chair = 4\n",
        "table = 2\n",
        "bed = 3\n",
        "sofa = 1"
      ],
      "outputs": [],
      "metadata": {
        "id": "oCBH40e5LsUe"
      }
    },
    {
      "cell_type": "code",
      "execution_count": 10,
      "source": [
        "\"\"\"\n",
        "Data Types: Real Numbers\n",
        "\"\"\"\n",
        "\n",
        "pi = 3.14\n",
        "Ascore = 4.0\n",
        "cd = 1.00"
      ],
      "outputs": [],
      "metadata": {
        "id": "-DQSdfMGNCzG"
      }
    },
    {
      "cell_type": "code",
      "execution_count": 11,
      "source": [
        "\"\"\"\n",
        "Data Types: Strings\n",
        "\"\"\"\n",
        "\n",
        "favorite_fruit = \"orange\"\n",
        "favorite_music_site = \"melon\"\n",
        "favorite_artist = \"HyunSang Ha\"\n",
        "\n",
        "\n"
      ],
      "outputs": [],
      "metadata": {
        "id": "ygmWGwlwNZAE"
      }
    },
    {
      "cell_type": "code",
      "execution_count": 13,
      "source": [
        "\"\"\"\n",
        "Plus-Equals Operations\n",
        "\"\"\"\n",
        "\n",
        "a = 8\n",
        "a += 2\n",
        "print(a)"
      ],
      "outputs": [
        {
          "output_type": "stream",
          "name": "stdout",
          "text": [
            "10\n"
          ]
        }
      ],
      "metadata": {
        "colab": {
          "base_uri": "https://localhost:8080/"
        },
        "id": "gOFIJqAWOF9p",
        "outputId": "336bfda5-e9cb-4ca6-c9f6-dc3d014c7780"
      }
    },
    {
      "cell_type": "code",
      "execution_count": null,
      "source": [],
      "outputs": [],
      "metadata": {}
    }
  ]
}