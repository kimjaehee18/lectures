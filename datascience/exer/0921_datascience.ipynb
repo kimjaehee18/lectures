{
  "nbformat": 4,
  "nbformat_minor": 0,
  "metadata": {
    "colab": {
      "name": "추석연휴_대체 녹강(9.21).ipynb",
      "provenance": [],
      "collapsed_sections": []
    },
    "kernelspec": {
      "name": "python3",
      "display_name": "Python 3"
    },
    "language_info": {
      "name": "python"
    }
  },
  "cells": [
    {
      "cell_type": "code",
      "metadata": {
        "id": "LE0Oo-rr-f2G"
      },
      "source": [
        ""
      ],
      "execution_count": null,
      "outputs": []
    },
    {
      "cell_type": "code",
      "metadata": {
        "colab": {
          "base_uri": "https://localhost:8080/"
        },
        "id": "r2F-ck7B-j1X",
        "outputId": "9af88986-91b5-491c-d1eb-d4a683f33fd5"
      },
      "source": [
        "\"\"\"\n",
        "Lists\n",
        "\"\"\"\n",
        "\n",
        "primes = [2,3,5,6,11,2]\n",
        "print(primes)\n",
        "\n",
        "empty_list = []\n",
        "print(empty_list)"
      ],
      "execution_count": null,
      "outputs": [
        {
          "output_type": "stream",
          "name": "stdout",
          "text": [
            "[2, 3, 5, 6, 11, 2]\n",
            "[]\n"
          ]
        }
      ]
    },
    {
      "cell_type": "code",
      "metadata": {
        "colab": {
          "base_uri": "https://localhost:8080/"
        },
        "id": "dUsQlWFw_mpU",
        "outputId": "1ab83a44-dd53-4e46-e5ef-9e522d437685"
      },
      "source": [
        "\"\"\"\n",
        "Multiple different data types\n",
        "\"\"\"\n",
        "\n",
        "mixed = ['Jenny', 1, 1.4, True]\n",
        "print(mixed)\n",
        "\n",
        "list_of_lists = [['a',1],['b',2]]"
      ],
      "execution_count": null,
      "outputs": [
        {
          "output_type": "stream",
          "name": "stdout",
          "text": [
            "['Jenny', 1, 1.4, True]\n"
          ]
        }
      ]
    },
    {
      "cell_type": "code",
      "metadata": {
        "colab": {
          "base_uri": "https://localhost:8080/"
        },
        "id": "t7xF0_suAVdX",
        "outputId": "4cd54dd8-ec84-4d74-d314-1be07d95e296"
      },
      "source": [
        "\"\"\"\n",
        "Zero-indexing\n",
        "\"\"\"\n",
        "\n",
        "names = ['Roger', 'Rafael', 'Andy', 'Novak']\n",
        "\n",
        "print(names[0])\n",
        "print(names[1])\n",
        "print(names[2])\n",
        "print(names[3])"
      ],
      "execution_count": null,
      "outputs": [
        {
          "output_type": "stream",
          "name": "stdout",
          "text": [
            "Roger\n",
            "Rafael\n",
            "Andy\n",
            "Novak\n"
          ]
        }
      ]
    },
    {
      "cell_type": "code",
      "metadata": {
        "colab": {
          "base_uri": "https://localhost:8080/"
        },
        "id": "EwRYQifjAlj_",
        "outputId": "e7287604-e611-4c15-e463-1053981f8b95"
      },
      "source": [
        "\"\"\"\n",
        "Negative indexing\n",
        "\"\"\"\n",
        "\n",
        "print(names[-1])\n",
        "print(names[-2])\n",
        "print(names[-3])\n",
        "print(names[-4])"
      ],
      "execution_count": null,
      "outputs": [
        {
          "output_type": "stream",
          "name": "stdout",
          "text": [
            "Novak\n",
            "Andy\n",
            "Rafael\n",
            "Roger\n"
          ]
        }
      ]
    },
    {
      "cell_type": "code",
      "metadata": {
        "colab": {
          "base_uri": "https://localhost:8080/"
        },
        "id": "ZJIU1iNZAmOU",
        "outputId": "ec1e0ecf-ac9a-4965-f2e8-8f107d9e3a06"
      },
      "source": [
        "\"\"\"\n",
        "List slicing\n",
        "\"\"\"\n",
        "\n",
        "hsu_buildings = ['만우관', '장공관','필헌관','소통관','송암관','늦봄관','장준하통일관']\n",
        "building_slice =hsu_buildings[1:4]\n",
        "\n",
        "print(hsu_buildings)\n",
        "print(building_slice )"
      ],
      "execution_count": null,
      "outputs": [
        {
          "output_type": "stream",
          "name": "stdout",
          "text": [
            "['만우관', '장공관', '필헌관', '소통관', '송암관', '늦봄관', '장준하통일관']\n",
            "['장공관', '필헌관', '소통관']\n"
          ]
        }
      ]
    }
  ]
}
