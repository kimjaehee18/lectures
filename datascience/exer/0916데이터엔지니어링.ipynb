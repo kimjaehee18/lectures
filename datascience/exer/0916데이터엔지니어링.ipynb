{
  "nbformat": 4,
  "nbformat_minor": 0,
  "metadata": {
    "colab": {
      "name": "0916데이터엔지니어링.ipynb",
      "provenance": [],
      "collapsed_sections": []
    },
    "kernelspec": {
      "name": "python3",
      "display_name": "Python 3"
    },
    "language_info": {
      "name": "python"
    }
  },
  "cells": [
    {
      "cell_type": "code",
      "metadata": {
        "colab": {
          "base_uri": "https://localhost:8080/"
        },
        "id": "A5bR1jxNGhPt",
        "outputId": "ac66cee3-1176-4efc-ff15-bc8a9ea398ed"
      },
      "source": [
        "#1\n",
        "print(\"Yes\" == 'Yes')      "
      ],
      "execution_count": null,
      "outputs": [
        {
          "output_type": "stream",
          "name": "stdout",
          "text": [
            "True\n"
          ]
        }
      ]
    },
    {
      "cell_type": "code",
      "metadata": {
        "colab": {
          "base_uri": "https://localhost:8080/"
        },
        "id": "HcNWAnSUGvg-",
        "outputId": "69e4dcb4-d8e5-4274-86f6-5d5d9984e497"
      },
      "source": [
        "#2\n",
        "print((2>1) == (5<10))"
      ],
      "execution_count": null,
      "outputs": [
        {
          "output_type": "stream",
          "name": "stdout",
          "text": [
            "True\n"
          ]
        }
      ]
    },
    {
      "cell_type": "code",
      "metadata": {
        "colab": {
          "base_uri": "https://localhost:8080/"
        },
        "id": "z2Cmb9IwGyds",
        "outputId": "25f33f51-b7de-4f03-fe34-6ee7260d94fa"
      },
      "source": [
        "#3\n",
        "c = '2'\n",
        "d = 2\n",
        "print(c == d)"
      ],
      "execution_count": null,
      "outputs": [
        {
          "output_type": "stream",
          "name": "stdout",
          "text": [
            "False\n"
          ]
        }
      ]
    },
    {
      "cell_type": "code",
      "metadata": {
        "colab": {
          "base_uri": "https://localhost:8080/"
        },
        "id": "STYM76sOG8cU",
        "outputId": "21d77232-f320-49b2-cf35-51df926b5bed"
      },
      "source": [
        "is_tested = True\n",
        "print(type(is_tested))"
      ],
      "execution_count": null,
      "outputs": [
        {
          "output_type": "stream",
          "name": "stdout",
          "text": [
            "<class 'bool'>\n"
          ]
        }
      ]
    },
    {
      "cell_type": "code",
      "metadata": {
        "colab": {
          "base_uri": "https://localhost:8080/"
        },
        "id": "w2gzZe8iHs-G",
        "outputId": "36423081-1e5c-43d9-fb1b-8aabf1790503"
      },
      "source": [
        "chr = 'a'\n",
        "a = 97\n",
        "chr == a\n",
        "print(chr)\n",
        "print(a)"
      ],
      "execution_count": null,
      "outputs": [
        {
          "output_type": "stream",
          "name": "stdout",
          "text": [
            "a\n",
            "97\n"
          ]
        }
      ]
    },
    {
      "cell_type": "code",
      "metadata": {
        "colab": {
          "base_uri": "https://localhost:8080/"
        },
        "id": "5PC2d7C_H-vF",
        "outputId": "d20754e7-006a-43df-807f-e206bc3b4432"
      },
      "source": [
        "print(True or True)\n",
        "print(True or False)\n",
        "print(False or False)\n",
        "print(1<2 or 3<1)\n",
        "print(3<1 or 1>6)\n",
        "print(1 == 1 or 1 <2)\n"
      ],
      "execution_count": null,
      "outputs": [
        {
          "output_type": "stream",
          "name": "stdout",
          "text": [
            "True\n",
            "True\n",
            "False\n",
            "True\n",
            "False\n",
            "True\n"
          ]
        }
      ]
    },
    {
      "cell_type": "code",
      "metadata": {
        "id": "m-bf_UuvI2BN"
      },
      "source": [
        "\n",
        "puppy = \"maltepoo\"\n",
        "is_yes = False\n",
        "if puppy == \"maltese\":\n",
        "  is_yes = True\n",
        "  print(\"말티즈 맞아요.\")\n",
        "\n",
        "elif puppy == \"maltepoo\":\n",
        "\n",
        "\n",
        "else:\n",
        "\n",
        "\n"
      ],
      "execution_count": null,
      "outputs": []
    }
  ]
}