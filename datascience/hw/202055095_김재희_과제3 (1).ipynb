{
 "cells": [
  {
   "cell_type": "code",
   "execution_count": 1,
   "metadata": {
    "id": "-yZaFgg10vw5"
   },
   "outputs": [],
   "source": [
    "hairstyles = [\"bouffant\", \"pixie\", \"dreadlocks\", \"crew\", \"bowl\", \"bob\", \"mohawk\", \"flattop\"]\n",
    "prices = [30, 25, 40, 20, 20, 35, 50, 35]\n",
    "last_week = [2, 3, 5, 8, 4, 4, 6, 2]"
   ]
  },
  {
   "cell_type": "code",
   "execution_count": 2,
   "metadata": {
    "colab": {
     "base_uri": "https://localhost:8080/"
    },
    "id": "D6XFANsK02oF",
    "outputId": "d8d413fd-babf-4a74-a972-ff3f575fbfe0"
   },
   "outputs": [
    {
     "name": "stdout",
     "output_type": "stream",
     "text": [
      "Average price is 31.875\n"
     ]
    }
   ],
   "source": [
    "total_price = 0\n",
    "for i in prices:\n",
    "  total_price += i\n",
    "\n",
    "# print(total_price)\n",
    "average_price = str(total_price / len(prices))\n",
    "print(\"Average price is \" + average_price)"
   ]
  },
  {
   "cell_type": "code",
   "execution_count": 3,
   "metadata": {
    "colab": {
     "base_uri": "https://localhost:8080/"
    },
    "id": "fIaMBFOq20TA",
    "outputId": "22d2dc34-89c2-4e29-c1fd-82320c9157bd"
   },
   "outputs": [
    {
     "name": "stdout",
     "output_type": "stream",
     "text": [
      "[25, 20, 35, 15, 15, 30, 45, 30]\n"
     ]
    }
   ],
   "source": [
    "new_prices = [price - 5 for price in prices]\n",
    "print(new_prices)"
   ]
  },
  {
   "cell_type": "code",
   "execution_count": 4,
   "metadata": {
    "colab": {
     "base_uri": "https://localhost:8080/"
    },
    "id": "avNUG63o3Rl-",
    "outputId": "2146d508-014e-481c-c962-ed8dcf70879a"
   },
   "outputs": [
    {
     "name": "stdout",
     "output_type": "stream",
     "text": [
      "Average daily revenue is 155.0\n"
     ]
    }
   ],
   "source": [
    "total_revenue = 0\n",
    "for i in range(0,len(hairstyles)):\n",
    "  total_revenue += prices[i] * last_week[i]\n",
    "  \n",
    "\n",
    "average_daily_revenue = str(total_revenue/7)\n",
    "print(\"Average daily revenue is \" + average_daily_revenue)"
   ]
  },
  {
   "cell_type": "code",
   "execution_count": 5,
   "metadata": {
    "colab": {
     "base_uri": "https://localhost:8080/"
    },
    "id": "fIW2mz4g4-av",
    "outputId": "d06ca804-6a8c-4264-80ed-79ace11cf8ae"
   },
   "outputs": [
    {
     "name": "stdout",
     "output_type": "stream",
     "text": [
      "['bouffant', 'pixie', 'crew', 'bowl']\n"
     ]
    }
   ],
   "source": [
    "cuts_under_30 = []\n",
    "for i in range(0, len(new_prices)-1):\n",
    "  if new_prices[i] < 30:\n",
    "    cuts_under_30.append(hairstyles[i])\n",
    "\n",
    "print(cuts_under_30)"
   ]
  }
 ],
 "metadata": {
  "colab": {
   "collapsed_sections": [],
   "name": "202055095_김재희_과제3.ipynb",
   "provenance": []
  },
  "kernelspec": {
   "display_name": "Python 3",
   "language": "python",
   "name": "python3"
  },
  "language_info": {
   "codemirror_mode": {
    "name": "ipython",
    "version": 3
   },
   "file_extension": ".py",
   "mimetype": "text/x-python",
   "name": "python",
   "nbconvert_exporter": "python",
   "pygments_lexer": "ipython3",
   "version": "3.8.8"
  }
 },
 "nbformat": 4,
 "nbformat_minor": 1
}
