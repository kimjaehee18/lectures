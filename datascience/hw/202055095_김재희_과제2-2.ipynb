{
  "nbformat": 4,
  "nbformat_minor": 0,
  "metadata": {
    "colab": {
      "name": "202055095_김재희_과제2.ipynb",
      "provenance": [],
      "collapsed_sections": []
    },
    "kernelspec": {
      "name": "python3",
      "display_name": "Python 3"
    },
    "language_info": {
      "name": "python"
    }
  },
  "cells": [
    {
      "cell_type": "code",
      "metadata": {
        "id": "ayAM93VPERH0",
        "colab": {
          "base_uri": "https://localhost:8080/"
        },
        "outputId": "7b80b4aa-05a7-484e-95eb-a90603b1ce09"
      },
      "source": [
        "subjects = [\"physics\", \"calculus\", \"poetry\", \"history\"]\n",
        "grades = [98, 97, 85, 88]\n",
        "\n",
        "gradebook = [[0,0],[0,0],[0,0],[0,0]]\n",
        "for i in range(0,4):\n",
        "  gradebook[i] = [subjects[i], grades[i]]\n",
        "\n",
        "print(gradebook)"
      ],
      "execution_count": 1,
      "outputs": [
        {
          "output_type": "stream",
          "name": "stdout",
          "text": [
            "[['physics', 98], ['calculus', 97], ['poetry', 85], ['history', 88]]\n"
          ]
        }
      ]
    },
    {
      "cell_type": "code",
      "metadata": {
        "colab": {
          "base_uri": "https://localhost:8080/"
        },
        "id": "MLBtbzS6R5hp",
        "outputId": "493d388f-0d9e-457b-c5cc-20c7135f3a50"
      },
      "source": [
        "gradebook.append([\"computer science\",100])\n",
        "gradebook.append([\"visual arts\",93])\n",
        "\n",
        "print(gradebook)\n"
      ],
      "execution_count": 2,
      "outputs": [
        {
          "output_type": "stream",
          "name": "stdout",
          "text": [
            "[['physics', 98], ['calculus', 97], ['poetry', 85], ['history', 88], ['computer science', 100], ['visual arts', 93]]\n"
          ]
        }
      ]
    },
    {
      "cell_type": "code",
      "metadata": {
        "colab": {
          "base_uri": "https://localhost:8080/"
        },
        "id": "uYHImujDUQ4W",
        "outputId": "62b9001f-661a-4e21-ab9a-6f5728bc4bf5"
      },
      "source": [
        "gradebook[2].remove(85)\n",
        "# print(gradebook)\n",
        "gradebook[2].append('Pass')\n",
        "print(gradebook)"
      ],
      "execution_count": 3,
      "outputs": [
        {
          "output_type": "stream",
          "name": "stdout",
          "text": [
            "[['physics', 98], ['calculus', 97], ['poetry', 'Pass'], ['history', 88], ['computer science', 100], ['visual arts', 93]]\n"
          ]
        }
      ]
    },
    {
      "cell_type": "code",
      "metadata": {
        "colab": {
          "base_uri": "https://localhost:8080/"
        },
        "id": "4EUTFA0AVxO8",
        "outputId": "679221ae-5b39-40c4-eb1d-42e4b4314c2e"
      },
      "source": [
        "last_semester_gradebook = [[\"politics\", 80], [\"latin\", 96], [\"dance\", 97], [\"architecture\", 65]]\n",
        "\n",
        "full_gradebook = last_semester_gradebook + gradebook\n",
        "print(full_gradebook)\n"
      ],
      "execution_count": 4,
      "outputs": [
        {
          "output_type": "stream",
          "name": "stdout",
          "text": [
            "[['politics', 80], ['latin', 96], ['dance', 97], ['architecture', 65], ['physics', 98], ['calculus', 97], ['poetry', 'Pass'], ['history', 88], ['computer science', 100], ['visual arts', 93]]\n"
          ]
        }
      ]
    }
  ]
}