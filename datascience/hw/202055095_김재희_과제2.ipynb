{
  "nbformat": 4,
  "nbformat_minor": 0,
  "metadata": {
    "colab": {
      "name": "202055095_김재희_과제2.ipynb",
      "provenance": [],
      "collapsed_sections": []
    },
    "kernelspec": {
      "name": "python3",
      "display_name": "Python 3"
    },
    "language_info": {
      "name": "python"
    }
  },
  "cells": [
    {
      "cell_type": "code",
      "metadata": {
        "id": "ayAM93VPERH0",
        "colab": {
          "base_uri": "https://localhost:8080/"
        },
        "outputId": "da594a75-11f7-4a26-de7c-fd9ffe17d278"
      },
      "source": [
        "subjects = [\"physics\", \"calculus\", \"poetry\", \"history\"]\n",
        "grades = [98, 97, 85, 88]\n",
        "gradebook = [list(i) for i in zip(subjects, grades)]\n",
        "print(gradebook)"
      ],
      "execution_count": 118,
      "outputs": [
        {
          "output_type": "stream",
          "name": "stdout",
          "text": [
            "[['physics', 98], ['calculus', 97], ['poetry', 85], ['history', 88]]\n"
          ]
        }
      ]
    },
    {
      "cell_type": "code",
      "metadata": {
        "colab": {
          "base_uri": "https://localhost:8080/"
        },
        "id": "MLBtbzS6R5hp",
        "outputId": "49a9dff8-9f1e-4048-d5bc-8740c8c7fb59"
      },
      "source": [
        "gradebook.append([\"computer science\",100])\n",
        "gradebook.append([\"visual arts\",93])\n",
        "\n",
        "print(gradebook)\n"
      ],
      "execution_count": 119,
      "outputs": [
        {
          "output_type": "stream",
          "name": "stdout",
          "text": [
            "[['physics', 98], ['calculus', 97], ['poetry', 85], ['history', 88], ['computer science', 100], ['visual arts', 93]]\n"
          ]
        }
      ]
    },
    {
      "cell_type": "code",
      "metadata": {
        "colab": {
          "base_uri": "https://localhost:8080/"
        },
        "id": "uYHImujDUQ4W",
        "outputId": "fe021594-d989-465e-ab26-34dd46897c83"
      },
      "source": [
        "gradebook[2].remove(85)\n",
        "# print(gradebook)\n",
        "gradebook[2].append('Pass')\n",
        "print(gradebook)"
      ],
      "execution_count": 121,
      "outputs": [
        {
          "output_type": "stream",
          "name": "stdout",
          "text": [
            "[['physics', 98], ['calculus', 97], ['poetry', 'Pass'], ['history', 88], ['computer science', 100], ['visual arts', 93]]\n"
          ]
        }
      ]
    },
    {
      "cell_type": "code",
      "metadata": {
        "colab": {
          "base_uri": "https://localhost:8080/"
        },
        "id": "4EUTFA0AVxO8",
        "outputId": "eeb4240f-a28a-4612-debe-150f66ed961a"
      },
      "source": [
        "last_semester_gradebook = [[\"politics\", 80], [\"latin\", 96], [\"dance\", 97], [\"architecture\", 65]]\n",
        "\n",
        "full_gradebook = last_semester_gradebook + gradebook\n",
        "print(full_gradebook)\n"
      ],
      "execution_count": 120,
      "outputs": [
        {
          "output_type": "stream",
          "name": "stdout",
          "text": [
            "[['politics', 80], ['latin', 96], ['dance', 97], ['architecture', 65], ['physics', 98], ['calculus', 97], ['poetry', 85], ['history', 88], ['computer science', 100], ['visual arts', 93]]\n"
          ]
        }
      ]
    }
  ]
}