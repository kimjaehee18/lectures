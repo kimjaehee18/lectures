{
  "nbformat": 4,
  "nbformat_minor": 0,
  "metadata": {
    "colab": {
      "name": "202055095_김재희 과제1.ipynb",
      "provenance": [],
      "collapsed_sections": []
    },
    "kernelspec": {
      "name": "python3",
      "display_name": "Python 3"
    },
    "language_info": {
      "name": "python"
    }
  },
  "cells": [
    {
      "cell_type": "code",
      "metadata": {
        "colab": {
          "base_uri": "https://localhost:8080/"
        },
        "id": "T01U1htl-iKO",
        "outputId": "eddc5a8f-8f12-4f48-f0a2-a2420058c274"
      },
      "source": [
        "lovely_loveseat_description = \"Lovely Loveseat. Tufted polyester blend on wood. 32 inches high x 40 inches wide x 30 inches deep. Red or white.\"\n",
        "lovely_loveseat_price = 254.00\n",
        "\n",
        "print(lovely_loveseat_description)\n",
        "print(lovely_loveseat_price)"
      ],
      "execution_count": 3,
      "outputs": [
        {
          "output_type": "stream",
          "name": "stdout",
          "text": [
            "Lovely Loveseat. Tufted polyester blend on wood. 32 inches high x 40 inches wide x 30 inches deep. Red or white.\n",
            "254.0\n"
          ]
        }
      ]
    },
    {
      "cell_type": "code",
      "metadata": {
        "id": "sIAPH7h8-tVn"
      },
      "source": [
        "stylish_settee_description = \"Stylish Settee. Faux leather on birch. 29.50 inches high x 54.75 inches wide x 28 inches deep. Black.\"\n",
        "stylish_settee_price = 180.50"
      ],
      "execution_count": 4,
      "outputs": []
    },
    {
      "cell_type": "code",
      "metadata": {
        "id": "dje98jt3_D0W"
      },
      "source": [
        "luxurious_lamp_description = \"Luxurious Lamp. Glass and iron. 36 inches tall. Brown with cream shade.\"\n",
        "luxurious_lamp_price = 52.15"
      ],
      "execution_count": 5,
      "outputs": []
    },
    {
      "cell_type": "code",
      "metadata": {
        "id": "nANDdxQx_Hon"
      },
      "source": [
        "sales_tax = .088"
      ],
      "execution_count": 18,
      "outputs": []
    },
    {
      "cell_type": "code",
      "metadata": {
        "id": "qwclrkTC_TV_"
      },
      "source": [
        "customer_one_total = 0\n",
        "\n",
        "customer_one_itemization = \"\""
      ],
      "execution_count": 7,
      "outputs": []
    },
    {
      "cell_type": "code",
      "metadata": {
        "colab": {
          "base_uri": "https://localhost:8080/"
        },
        "id": "yM00fWdw_Zd7",
        "outputId": "1b23afb4-593d-4082-b00e-e9a5356d735d"
      },
      "source": [
        "customer_one_total = lovely_loveseat_price + luxurious_lamp_price\n",
        "customer_one_itemization = lovely_loveseat_description + luxurious_lamp_description\n",
        "print(customer_one_total)"
      ],
      "execution_count": 14,
      "outputs": [
        {
          "output_type": "stream",
          "name": "stdout",
          "text": [
            "306.15\n"
          ]
        }
      ]
    },
    {
      "cell_type": "code",
      "metadata": {
        "id": "eNqiMDYJ_3Ga"
      },
      "source": [
        "customer_one_tax = customer_one_total * sales_tax\n",
        "customer_one_total += customer_one_tax"
      ],
      "execution_count": 21,
      "outputs": []
    },
    {
      "cell_type": "code",
      "metadata": {
        "colab": {
          "base_uri": "https://localhost:8080/"
        },
        "id": "gOTmJivFAn47",
        "outputId": "bc586c9d-84ec-4e49-bff0-2ab4cda6849d"
      },
      "source": [
        "print(\"Customer One Items:\")\n",
        "print(customer_one_itemization)\n",
        "print(\"Customer One Total:\")\n",
        "print(customer_one_total)"
      ],
      "execution_count": 22,
      "outputs": [
        {
          "output_type": "stream",
          "name": "stdout",
          "text": [
            "Customer One Items:\n",
            "Lovely Loveseat. Tufted polyester blend on wood. 32 inches high x 40 inches wide x 30 inches deep. Red or white.luxurious_lamp_description\n",
            "Customer One Total:\n",
            "333.09119999999996\n"
          ]
        }
      ]
    }
  ]
}