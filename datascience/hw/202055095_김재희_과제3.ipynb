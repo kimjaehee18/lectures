{
  "nbformat": 4,
  "nbformat_minor": 0,
  "metadata": {
    "colab": {
      "name": "202055095_김재희_과제3.ipynb",
      "provenance": [],
      "collapsed_sections": []
    },
    "kernelspec": {
      "name": "python3",
      "display_name": "Python 3"
    },
    "language_info": {
      "name": "python"
    }
  },
  "cells": [
    {
      "cell_type": "code",
      "metadata": {
        "id": "-yZaFgg10vw5"
      },
      "source": [
        "hairstyles = [\"bouffant\", \"pixie\", \"dreadlocks\", \"crew\", \"bowl\", \"bob\", \"mohawk\", \"flattop\"]\n",
        "prices = [30, 25, 40, 20, 20, 35, 50, 35]\n",
        "last_week = [2, 3, 5, 8, 4, 4, 6, 2]"
      ],
      "execution_count": 3,
      "outputs": []
    },
    {
      "cell_type": "code",
      "metadata": {
        "colab": {
          "base_uri": "https://localhost:8080/"
        },
        "id": "D6XFANsK02oF",
        "outputId": "d8d413fd-babf-4a74-a972-ff3f575fbfe0"
      },
      "source": [
        "total_price = 0\n",
        "for i in prices:\n",
        "  total_price += i\n",
        "\n",
        "# print(total_price)\n",
        "average_price = str(total_price / len(prices))\n",
        "print(\"Average price is \" + average_price)"
      ],
      "execution_count": 15,
      "outputs": [
        {
          "output_type": "stream",
          "name": "stdout",
          "text": [
            "Average price is 31.875\n"
          ]
        }
      ]
    },
    {
      "cell_type": "code",
      "metadata": {
        "colab": {
          "base_uri": "https://localhost:8080/"
        },
        "id": "fIaMBFOq20TA",
        "outputId": "22d2dc34-89c2-4e29-c1fd-82320c9157bd"
      },
      "source": [
        "new_prices = [price - 5 for price in prices]\n",
        "print(new_prices)"
      ],
      "execution_count": 17,
      "outputs": [
        {
          "output_type": "stream",
          "name": "stdout",
          "text": [
            "[25, 20, 35, 15, 15, 30, 45, 30]\n"
          ]
        }
      ]
    },
    {
      "cell_type": "code",
      "metadata": {
        "colab": {
          "base_uri": "https://localhost:8080/"
        },
        "id": "avNUG63o3Rl-",
        "outputId": "2146d508-014e-481c-c962-ed8dcf70879a"
      },
      "source": [
        "total_revenue = 0\n",
        "for i in range(0,len(hairstyles)):\n",
        "  total_revenue += prices[i] * last_week[i]\n",
        "  \n",
        "\n",
        "average_daily_revenue = str(total_revenue/7)\n",
        "print(\"Average daily revenue is \" + average_daily_revenue)"
      ],
      "execution_count": 24,
      "outputs": [
        {
          "output_type": "stream",
          "name": "stdout",
          "text": [
            "Average daily revenue is 155.0\n"
          ]
        }
      ]
    },
    {
      "cell_type": "code",
      "metadata": {
        "colab": {
          "base_uri": "https://localhost:8080/"
        },
        "id": "fIW2mz4g4-av",
        "outputId": "d06ca804-6a8c-4264-80ed-79ace11cf8ae"
      },
      "source": [
        "cuts_under_30 = []\n",
        "for i in range(0, len(new_prices)-1):\n",
        "  if new_prices[i] < 30:\n",
        "    cuts_under_30.append(hairstyles[i])\n",
        "\n",
        "print(cuts_under_30)"
      ],
      "execution_count": 30,
      "outputs": [
        {
          "output_type": "stream",
          "name": "stdout",
          "text": [
            "['bouffant', 'pixie', 'crew', 'bowl']\n"
          ]
        }
      ]
    }
  ]
}